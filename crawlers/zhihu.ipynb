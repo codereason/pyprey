{
 "cells": [
  {
   "cell_type": "code",
   "execution_count": null,
   "metadata": {},
   "outputs": [],
   "source": [
    "# 初始页解析  只需要解析 动态  -- 文章+回答\n",
    "\n",
    "import requests as req\n",
    "init_url = \"https://www.zhihu.com/people/lian-shang-tian-kong-lan\"\n",
    "\n",
    "headers ={\"User-agent\":\"Googlebot\"}\n",
    "resp = req.get(init_url,headers=headers)\n",
    "from bs4 import BeautifulSoup as bfs\n",
    "\n",
    "soup = bfs(resp.content,\"lxml\")\n",
    "j = soup.findAll('script',{\"type\":\"text/json\"})[1].string\n",
    "import json\n",
    "jj  = json.loads(j)\n"
   ]
  },
  {
   "cell_type": "code",
   "execution_count": null,
   "metadata": {},
   "outputs": [],
   "source": []
  },
  {
   "cell_type": "code",
   "execution_count": null,
   "metadata": {},
   "outputs": [],
   "source": []
  },
  {
   "cell_type": "code",
   "execution_count": null,
   "metadata": {},
   "outputs": [],
   "source": [
    "entities = jj['initialState']['entities']\n",
    "answers = entities['answers']\n",
    "articles = entities['articles']\n"
   ]
  },
  {
   "cell_type": "code",
   "execution_count": null,
   "metadata": {},
   "outputs": [],
   "source": [
    "answers"
   ]
  },
  {
   "cell_type": "code",
   "execution_count": null,
   "metadata": {},
   "outputs": [],
   "source": [
    "for key in list(articles.keys()):\n",
    "    print(articles[key].get('updated'))\n",
    "    print(articles[key].get('author')['name'])\n",
    "    print(articles[key].get('title'))\n",
    "    print(articles[key].get('excerpt'))\n",
    "    print(articles[key].get('created'))\n",
    "    print('*'*100)"
   ]
  },
  {
   "cell_type": "code",
   "execution_count": null,
   "metadata": {},
   "outputs": [],
   "source": [
    "for key in list(articles.keys()):\n",
    "    print(articles[key].get('updated'))"
   ]
  },
  {
   "cell_type": "code",
   "execution_count": null,
   "metadata": {
    "scrolled": false
   },
   "outputs": [],
   "source": [
    "soup"
   ]
  },
  {
   "cell_type": "code",
   "execution_count": null,
   "metadata": {},
   "outputs": [],
   "source": [
    "url = \"https://www.zhihu.com/api/v3/feed/members/lian-shang-tian-kong-lan/activities?limit=7&session_id=1271442717533786112&after_id=1606879134&desktop=true\""
   ]
  },
  {
   "cell_type": "code",
   "execution_count": null,
   "metadata": {},
   "outputs": [],
   "source": [
    "def googlebot(url):\n",
    "    \n",
    "    \n",
    "    headers ={\"User-agent\":\"Googlebot\"}\n",
    "    resp = req.get(url,headers=headers)\n",
    "    if resp.status_code==200:\n",
    "        return resp \n",
    "    else:\n",
    "        return None\n",
    "googlebot(url)"
   ]
  },
  {
   "cell_type": "code",
   "execution_count": null,
   "metadata": {},
   "outputs": [],
   "source": [
    "a = googlebot(url).json()\n",
    "data = a['data']\n",
    "for tmp in data:\n",
    "    print(tmp['target']['excerpt'])"
   ]
  },
  {
   "cell_type": "code",
   "execution_count": null,
   "metadata": {},
   "outputs": [],
   "source": [
    "before_url = \"https://www.zhihu.com/api/v3/feed/members/lian-shang-tian-kong-lan/activities?before_id=1606830189&limit=10&session_id=1271442717533786112&desktop=true\"\n",
    "a = googlebot(before_url).json()\n",
    "a['paging']"
   ]
  },
  {
   "cell_type": "code",
   "execution_count": null,
   "metadata": {},
   "outputs": [],
   "source": [
    "\"https://www.zhihu.com/api/v3/feed/members/lian-shang-tian-kong-lan/activities?limit=7&session_id=1271442717533786112&after_id=1606698502&desktop=true\""
   ]
  },
  {
   "cell_type": "code",
   "execution_count": null,
   "metadata": {},
   "outputs": [],
   "source": [
    "while 1:\n",
    "    a = googlebot(before_url).json()\n",
    "    print(a[\"paging\"])\n",
    "    before_url = a[\"paging\"]['next']"
   ]
  },
  {
   "cell_type": "code",
   "execution_count": null,
   "metadata": {},
   "outputs": [],
   "source": []
  }
 ],
 "metadata": {
  "kernelspec": {
   "display_name": "Python 3",
   "language": "python",
   "name": "python3"
  },
  "language_info": {
   "codemirror_mode": {
    "name": "ipython",
    "version": 3
   },
   "file_extension": ".py",
   "mimetype": "text/x-python",
   "name": "python",
   "nbconvert_exporter": "python",
   "pygments_lexer": "ipython3",
   "version": "3.7.0"
  }
 },
 "nbformat": 4,
 "nbformat_minor": 2
}