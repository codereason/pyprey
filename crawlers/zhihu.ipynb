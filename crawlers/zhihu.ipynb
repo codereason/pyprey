{
 "cells": [
  {
   "cell_type": "code",
   "execution_count": 1,
   "metadata": {},
   "outputs": [],
   "source": [
    "# 初始页解析  只需要解析 动态  -- 文章+回答\n",
    "\n",
    "import requests as req\n",
    "init_url = \"https://www.zhihu.com/people/lian-shang-tian-kong-lan\"\n",
    "\n",
    "headers ={\"User-agent\":\"Googlebot\"}\n",
    "resp = req.get(init_url,headers=headers)\n",
    "from bs4 import BeautifulSoup as bfs\n",
    "\n",
    "soup = bfs(resp.content,\"lxml\")\n",
    "j = soup.findAll('script',{\"type\":\"text/json\"})[1].string\n",
    "import json\n",
    "jj  = json.loads(j)\n"
   ]
  },
  {
   "cell_type": "code",
   "execution_count": 2,
   "metadata": {},
   "outputs": [],
   "source": [
    "entities = jj['initialState']['entities']\n",
    "answers = entities['answers']\n",
    "articles = entities['articles']\n"
   ]
  },
  {
   "cell_type": "code",
   "execution_count": 15,
   "metadata": {},
   "outputs": [
    {
     "output_type": "stream",
     "name": "stdout",
     "text": [
      "60266397\n1555152965\n小古银\nUbuntu快速搭建C++开发环境（VS Code编辑器）\n1555152965\n****************************************************************************************************\n78247846\n1565842157\nsilaoA\nPython项目如何合理组织规避import天坑\n1565842157\n****************************************************************************************************\n119125795\n1585388181\n3type\n从塞尔达到动森：在游戏里使用综艺体是否搞错了什么？\n1585369611\n****************************************************************************************************\n270338945\n1604389559\n三和厂妹\n【NLP笔记】Bert Family 核心&实践\n1604304315\n****************************************************************************************************\n332557580\n1607309613\nbilllee\n推荐系统之未登录特征值处理\n1607252018\n****************************************************************************************************\n334325756\n1607391682\nZilliz\nMilvus 实战 | 基于 Milvus 的图像查重系统\n1607391682\n****************************************************************************************************\n"
     ]
    }
   ],
   "source": [
    "for key in list(articles.keys()):\n",
    "    print(key)\n",
    "    print(articles[key].get('updated'))\n",
    "    # print(entities[\"activities\"][key][\"actionText\"])\n",
    "    print(articles[key].get('author')['name'])\n",
    "    print(articles[key].get('title'))\n",
    "    # print(articles[key].get('excerpt'))\n",
    "    print(articles[key].get('created'))\n",
    "\n",
    "    print('*'*100)"
   ]
  },
  {
   "cell_type": "code",
   "execution_count": 37,
   "metadata": {},
   "outputs": [
    {
     "output_type": "execute_result",
     "data": {
      "text/plain": [
       "[{'article': '60266397',\n",
       "  'updated': 1555152965,\n",
       "  'author_name': '小古银',\n",
       "  'title': 'Ubuntu快速搭建C++开发环境（VS Code编辑器）',\n",
       "  'created': 1555152965},\n",
       " {'article': '78247846',\n",
       "  'updated': 1565842157,\n",
       "  'author_name': 'silaoA',\n",
       "  'title': 'Python项目如何合理组织规避import天坑',\n",
       "  'created': 1565842157},\n",
       " {'article': '119125795',\n",
       "  'updated': 1585388181,\n",
       "  'author_name': '3type',\n",
       "  'title': '从塞尔达到动森：在游戏里使用综艺体是否搞错了什么？',\n",
       "  'created': 1585369611},\n",
       " {'article': '270338945',\n",
       "  'updated': 1604389559,\n",
       "  'author_name': '三和厂妹',\n",
       "  'title': '【NLP笔记】Bert Family 核心&实践',\n",
       "  'created': 1604304315},\n",
       " {'article': '332557580',\n",
       "  'updated': 1607309613,\n",
       "  'author_name': 'billlee',\n",
       "  'title': '推荐系统之未登录特征值处理',\n",
       "  'created': 1607252018},\n",
       " {'article': '334325756',\n",
       "  'updated': 1607391682,\n",
       "  'author_name': 'Zilliz',\n",
       "  'title': 'Milvus 实战 | 基于 Milvus 的图像查重系统',\n",
       "  'created': 1607391682}]"
      ]
     },
     "metadata": {},
     "execution_count": 37
    }
   ],
   "source": [
    "\n",
    "\n",
    "def get_articles_fields(articles):\n",
    "    res = []\n",
    "\n",
    "    for key in list(articles.keys()):\n",
    "        tmp = {}\n",
    "        tmp['article'] = key\n",
    "        tmp['updated'] = articles[key].get('updated')\n",
    "        tmp['author_name'] = articles[key].get('author')['name']\n",
    "        tmp['title'] = articles[key].get('title')\n",
    "        tmp[\"created\"] = articles[key].get('created')\n",
    "        res.append(tmp)\n",
    "    return res\n",
    "details = get_articles_fields(articles)\n",
    "details"
   ]
  },
  {
   "cell_type": "code",
   "execution_count": 45,
   "metadata": {},
   "outputs": [
    {
     "output_type": "execute_result",
     "data": {
      "text/plain": [
       "[{'article_id': '334325756', 'action': '赞同了文章', 'createdTime': 1607394299},\n",
       " {'article_id': '78247846', 'action': '赞同了文章', 'createdTime': 1607335970},\n",
       " {'article_id': '60266397', 'action': '赞同了文章', 'createdTime': 1607329463},\n",
       " {'article_id': '19793879', 'action': '关注了问题', 'createdTime': 1607308123},\n",
       " {'article_id': '332557580', 'action': '赞同了文章', 'createdTime': 1607262164},\n",
       " {'article_id': '270338945', 'action': '赞同了文章', 'createdTime': 1607225365},\n",
       " {'article_id': '119125795', 'action': '赞同了文章', 'createdTime': 1607183681}]"
      ]
     },
     "metadata": {},
     "execution_count": 45
    }
   ],
   "source": [
    "def get_id_and_action(act):\n",
    "    res = []\n",
    "    for key in act:\n",
    "        article_id = str(act[key].get(\"target\")[\"id\"])\n",
    "        action = act[key]['actionText']\n",
    "        createdTime = act[key]['createdTime']\n",
    "        res.append({\"article_id\":article_id,\"action\":action,\"createdTime\":createdTime})\n",
    "    return res\n",
    "res = get_id_and_action(entities[\"activities\"])\n",
    "res"
   ]
  },
  {
   "cell_type": "code",
   "execution_count": 48,
   "metadata": {},
   "outputs": [],
   "source": [
    "joined = []\n",
    "for i in range(len(details)):\n",
    "    for j in range(len(res)):\n",
    "        # print(details[i].get(\"article\"),res[j].get(\"article_id\"))\n",
    "        if details[i].get(\"article\") == res[j].get(\"article_id\"):\n",
    "            # print(i,j)\n",
    "            tmp = {\n",
    "                \"article_id\":details[i].get(\"article\"),\n",
    "                \"action\":res[j].get(\"action\"),\n",
    "                \"createdTime\":res[j].get(\"createdTime\"),\n",
    "                \"updatedTime\":details[i].get(\"updated\"),\n",
    "                \"author_name\":details[i].get(\"author_name\"),\n",
    "                \"title\":details[i].get(\"title\"),\n",
    "\n",
    "\n",
    "            }\n",
    "            joined.append(tmp)\n"
   ]
  },
  {
   "cell_type": "code",
   "execution_count": 50,
   "metadata": {},
   "outputs": [
    {
     "output_type": "execute_result",
     "data": {
      "text/plain": [
       "[{'article_id': '334325756',\n",
       "  'action': '赞同了文章',\n",
       "  'createdTime': 1607394299,\n",
       "  'updatedTime': 1607391682,\n",
       "  'author_name': 'Zilliz',\n",
       "  'title': 'Milvus 实战 | 基于 Milvus 的图像查重系统'},\n",
       " {'article_id': '78247846',\n",
       "  'action': '赞同了文章',\n",
       "  'createdTime': 1607335970,\n",
       "  'updatedTime': 1565842157,\n",
       "  'author_name': 'silaoA',\n",
       "  'title': 'Python项目如何合理组织规避import天坑'},\n",
       " {'article_id': '60266397',\n",
       "  'action': '赞同了文章',\n",
       "  'createdTime': 1607329463,\n",
       "  'updatedTime': 1555152965,\n",
       "  'author_name': '小古银',\n",
       "  'title': 'Ubuntu快速搭建C++开发环境（VS Code编辑器）'},\n",
       " {'article_id': '332557580',\n",
       "  'action': '赞同了文章',\n",
       "  'createdTime': 1607262164,\n",
       "  'updatedTime': 1607309613,\n",
       "  'author_name': 'billlee',\n",
       "  'title': '推荐系统之未登录特征值处理'},\n",
       " {'article_id': '270338945',\n",
       "  'action': '赞同了文章',\n",
       "  'createdTime': 1607225365,\n",
       "  'updatedTime': 1604389559,\n",
       "  'author_name': '三和厂妹',\n",
       "  'title': '【NLP笔记】Bert Family 核心&实践'},\n",
       " {'article_id': '119125795',\n",
       "  'action': '赞同了文章',\n",
       "  'createdTime': 1607183681,\n",
       "  'updatedTime': 1585388181,\n",
       "  'author_name': '3type',\n",
       "  'title': '从塞尔达到动森：在游戏里使用综艺体是否搞错了什么？'}]"
      ]
     },
     "metadata": {},
     "execution_count": 50
    }
   ],
   "source": [
    "sorted(joined,key=lambda x:x.get('createdTime'),reverse=True)"
   ]
  },
  {
   "cell_type": "code",
   "execution_count": null,
   "metadata": {},
   "outputs": [],
   "source": [
    "def extract_time(json):\n",
    "    try:\n",
    "        return int(json['createdTime'])\n",
    "    except KeyError:\n",
    "        return 0\n",
    "\n",
    "{k: v for k, v in sorted(details.items(), key=lambda item: item[1])}"
   ]
  },
  {
   "cell_type": "code",
   "execution_count": null,
   "metadata": {},
   "outputs": [],
   "source": [
    "url = \"https://www.zhihu.com/api/v3/feed/members/lian-shang-tian-kong-lan/activities?limit=7&session_id=1271442717533786112&after_id=1606879134&desktop=true\""
   ]
  },
  {
   "cell_type": "code",
   "execution_count": null,
   "metadata": {},
   "outputs": [],
   "source": [
    "def googlebot(url):\n",
    "    \n",
    "    \n",
    "    headers ={\"User-agent\":\"Googlebot\"}\n",
    "    resp = req.get(url,headers=headers)\n",
    "    if resp.status_code==200:\n",
    "        return resp \n",
    "    else:\n",
    "        return None\n",
    "googlebot(url)"
   ]
  },
  {
   "cell_type": "code",
   "execution_count": null,
   "metadata": {},
   "outputs": [],
   "source": [
    "a = googlebot(url).json()\n",
    "data = a['data']\n",
    "for tmp in data:\n",
    "    print(tmp['target']['excerpt'])"
   ]
  },
  {
   "cell_type": "code",
   "execution_count": null,
   "metadata": {},
   "outputs": [],
   "source": [
    "before_url = \"https://www.zhihu.com/api/v3/feed/members/lian-shang-tian-kong-lan/activities?before_id=1606830189&limit=10&session_id=1271442717533786112&desktop=true\"\n",
    "a = googlebot(before_url).json()\n",
    "a['paging']"
   ]
  },
  {
   "cell_type": "code",
   "execution_count": null,
   "metadata": {},
   "outputs": [],
   "source": [
    "\"https://www.zhihu.com/api/v3/feed/members/lian-shang-tian-kong-lan/activities?limit=7&session_id=1271442717533786112&after_id=1606698502&desktop=true\""
   ]
  },
  {
   "cell_type": "code",
   "execution_count": null,
   "metadata": {},
   "outputs": [],
   "source": [
    "while 1:\n",
    "    a = googlebot(before_url).json()\n",
    "    print(a[\"paging\"])\n",
    "    before_url = a[\"paging\"]['next']"
   ]
  },
  {
   "cell_type": "code",
   "execution_count": null,
   "metadata": {},
   "outputs": [],
   "source": []
  }
 ],
 "metadata": {
  "kernelspec": {
   "display_name": "Python 3",
   "language": "python",
   "name": "python3"
  },
  "language_info": {
   "codemirror_mode": {
    "name": "ipython",
    "version": 3
   },
   "file_extension": ".py",
   "mimetype": "text/x-python",
   "name": "python",
   "nbconvert_exporter": "python",
   "pygments_lexer": "ipython3",
   "version": "3.5.2-final"
  }
 },
 "nbformat": 4,
 "nbformat_minor": 2
}